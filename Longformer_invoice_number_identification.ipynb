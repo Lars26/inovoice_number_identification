{
 "cells": [
  {
   "cell_type": "code",
   "execution_count": 1,
   "metadata": {},
   "outputs": [
    {
     "name": "stderr",
     "output_type": "stream",
     "text": [
      "/Users/larsraufer/Library/Python/3.9/lib/python/site-packages/urllib3/__init__.py:35: NotOpenSSLWarning: urllib3 v2 only supports OpenSSL 1.1.1+, currently the 'ssl' module is compiled with 'LibreSSL 2.8.3'. See: https://github.com/urllib3/urllib3/issues/3020\n",
      "  warnings.warn(\n",
      "/Users/larsraufer/Library/Python/3.9/lib/python/site-packages/tqdm/auto.py:21: TqdmWarning: IProgress not found. Please update jupyter and ipywidgets. See https://ipywidgets.readthedocs.io/en/stable/user_install.html\n",
      "  from .autonotebook import tqdm as notebook_tqdm\n"
     ]
    },
    {
     "name": "stdout",
     "output_type": "stream",
     "text": [
      "[['22AR10030015'], ['AR 10609', 'AR 40225', 'AR 11277', 'AR 40357'], ['AR 29218002', 'AR 29218036'], ['608885'], ['1010308645'], ['1086035'], ['23-003866'], ['202318311'], ['202320605'], ['67309'], ['9300387492'], ['9300387789'], ['R2325765'], ['LPLIR02820255 ', 'LPLR008170995 ', 'LPLIR02831801 ', 'LPLR008193508 ', 'LPLR008216072 ', 'LPLIR02855955 ', 'LPLR008263365 ', 'LPLR008285224 '], ['0055050578', '0055050564', '0055050563', '0055050382', '0055050188', '0055050187'], ['1080054261', '1080054171', '1080054074', '1080054073', '1080054011', '1080053755', '1080053419', '1080052903', '1080052550', '1080054335'], ['SWSCC32C'], ['60117490', '60372288'], ['AR 240157000', 'GS 240615139'], ['240224', '240849'], ['23117650'], ['101101668158'], ['553245'], ['0610016262', '0610016263', '0610016264'], ['1800001412'], ['9300353194'], ['W23-32257 '], ['C00035417'], ['850000', '850465'], ['2309564'], ['1265435251', '1265436372', '1265439252', '1265439371'], ['23121827'], ['1042513', '1043269'], ['1002306'], ['2307000105866'], ['DUN0000021896'], ['418486'], ['18154232'], ['2310518'], ['H14/34100'], ['21480923'], ['3320321820'], ['3320402788'], ['230599'], ['92758901', '92757404', '92756978', '92756977', '92756976', '92756975', '92756974', '92756586', '92756585', '92756584', '92756583', '92756323'], ['AR2307730'], ['146711299'], ['2305873'], ['20068586', '20070982'], ['1169'], ['1921195291'], ['11080007720231113'], ['40233079'], ['22034400490'], ['9673188'], ['90027605'], ['860298'], ['2023/1955'], ['85874199'], ['3000399000'], ['23625437'], ['2400394'], ['202302710'], ['1005785'], ['91719176'], ['9300376785'], ['22461'], ['2023-600818'], ['AR-24-02729'], ['725340006', '725340015', '725340016', '725393954', '725419609', '725439101', '725439107'], ['RE2401021'], ['RE30009'], ['G.VRA01-021215'], ['240253'], ['91410747', '91413159'], ['2403462'], ['947151'], ['AR-24-02524 ', 'AR-24-02525 ', 'AR-24-02628 ', 'AR-24-02713 ', 'AR-24-02714 ', 'AR-24-02715 ', 'AR-24-02716 '], ['91490979'], ['RE1023824'], ['RE1024486'], ['367960'], ['ML24/020220'], ['9300359395', '9300359396'], ['9300355093'], ['242396'], ['2402523', '2403626', 'G2300400 ', '2401202'], ['7302650290', '6042071969', '6065282416', '6057999129', '6048098552', '6056025449', '7302706274', '6050110682', '6052108612', '6054096615', '6062028013', '6065359314', '6040152539', '6044119746', '6060038870', '6050119046', '6050119047', '6050119048', '6062035811', '6042132808', '6040163979', '6050124024', '6038163130', '6038163131', '6038163132', '6048126953', '6058052819', '6052125510', '6054114006', '6058054642', '6046133676', '6044144124', '6054125626', '6054125627', '6054125628', '6044151367', '6044151368', '6050146710', '6050146711', '6052142900', '6052142901', '6054132246', '6056068587', '6058073618', '6040192716', '6046153264', '6036206956', '6038190807', '6038190808', '6060079045', '6048124008.0', '6052152349.0', '7302717009.0', '6042142382.0', '6052154898.0'], ['900377161'], ['207509'], ['1095547796', '2541963170'], ['1331719162', '1331721567', '1331731097', '1331725317', '1331736935', '1331737294', '1331780086', '1331811556', '1331824578', '1331829216'], ['0124118139', '0124118297', '0124118377', '0124118504', '0124118599', '0124118661', '0124118757'], ['9394801556'], ['1095547796', '2541963170'], ['9410014148'], ['6090076745', '6000385159'], ['904201'], ['RE0597891 ', 'RE0597943 ', 'RE0597987 ', 'RE0598211 ', 'RE0598213 ', 'RE0598231 ', 'RE0598271 ', 'RE0598420 ', 'RE0598458 ', 'RE0598471 ', 'RE0598544 ', 'RE0598645 ', 'RE0598648 ', 'RE0598649 ', 'RE0598650 ', 'RE0598669 ', 'RE0598937 ', 'RE0599009 ', 'RE0599123 '], ['61563709'], ['0061563712', '0061563713', '0061563714', '0061563715', '0061563716', '0061563717'], ['AR_048441'], ['147316982', '147332299'], ['9760169323'], ['10405260'], ['30403455', '30403500'], ['240183', '249008'], ['1001366475'], ['8123863419'], ['ZIT5715984 ', 'ZIT5715984 '], ['553742'], ['9048026836'], ['2024-101131'], ['DE02412766 ', 'DE02430771 ', 'DE02431520 ', 'DE02431575 ', 'DE02434868 ', 'DE02438958 ', 'DE02438962 ', 'DE02461759 ', 'DE02475246 ', 'DE02480866 ', 'DE02480883 ', 'DE02480904 ', 'DE02480974 ', 'DE02489236 ', 'DE02498788 ', 'DE02498797 ', 'DE02498808 ', 'DE02498811 ', 'DE02524175 ', 'DE02524223 '], ['DK02587623 ', 'DK02588241 ', 'DK02588242'], ['24028849'], ['2806677', '2806943', '2807224', '2807705', '2808103'], ['1976439'], ['91173392'], ['2418002129', '2418002156', '2418002160', '2418002166', '2418002202', '2418002203', '2418002220', '2418002574'], ['24000298'], ['15512401452'], ['RE2159481'], ['RG2240689'], ['92778841', '92778821', '92778820', '92778531', '92778521', '92778520', '92778519', '92778207', '92777930', '92777917', '92776216', '92776215'], ['108961194', '108988214'], ['240626/1', '240628/1'], ['2001058366', '3000032494', '2001066446', '2001082414'], ['RG000693'], ['63040505'], ['54009532'], ['0090039471'], ['401488', '401729', '401730', '401731', '402226', '402331', '402332', '402333', '402334', '402517', '402563', '402921', '402924'], ['7488608'], ['90672876'], ['B400-102441-2024', 'B400-102486-2024'], ['1190314430'], ['3240102'], ['4234493930', '4234729736', '4234738627', '4234900203', '4234942042', '4234958932', '4234979048', '4235062560', '4235144410 '], ['152042931', '152195986', '152199335', '152200032'], ['3009453518', '3009453519', '3009461466', '3009461467', '3009461468', '3009470789', '3009470790', '3009470791', '3009479720', '3009479721', '3009485884', '3009490649', '3009497225', '3009497224', '3009497223', '3009497222', '3009497221', '3009505673', '3009505674', '3009505675', '3009505676', '3009505677', '3009514492', '3009514493', '3009514494', '3009522876', '3009522877', '3009529114', '3009529115', '3009540218', '3009549367', '3009549368', '3009557610', '3009557611', '3009563682', '3009563683', '3009563684', '3009575669', '3009575670', '3009582904', '3009582905', '3009582906', '3009582907', '3009592012', '3009592013', '3009592014', '3009597021', '3009601188', '3009608330', '3009608331', '3009616318.0', '3009616319.0', '3009624939.0', '3009624940.0', '3009632679.0', '3009632680.0', '3009639335.0', '3009639336.0', '3009639337.0', '3009641615.0', '3009644009.0', '3009644010.0'], ['3009453496', '3009479683', '3009497193', '3009505632'], ['709155651'], ['35267', '35268', '35509', '35582'], ['1000510497'], ['2406031'], ['94012427'], ['24-RE-15963'], ['1132487'], ['160281489'], ['1600132955', '1600132571', '1600131959', '1600131958', '1600126610'], ['1600036837'], ['412285'], ['400183', '300783', '300133', '300117'], ['12458369', '12497255', '12497256'], ['12437086', '12437087'], ['18262179', '10209476', '0000217897', '10280363', '11940309', '11958488', '11958493', '11958501', '12015865', '12032991', '12071351', '0000800353', '12152858', '12198875', '0000800650', '12279043', '12321842', '12341769', '12739910', '12778594', '0000800951', '12437044', '12437055', '12437056', '12437058', '12437060', '12437061', '12437062', '12437064', '12458348', '12458368', '12479005', '12479006', '12479007', '12479008', '12479009', '12479010', '12479011', '12479012', '12479013', '12479014', '12479015', '12479016', '12479017', '12479018', '12479019', '12479020', '12479021', '12479022', '12497231', '12497245.0', '12497247.0', '12497253.0', '12497254.0'], ['1470350', '1470644'], ['8977284', '8976556'], ['R24/000069'], ['16777'], ['R23-1022'], ['019/22', '043/23', '048/23', '053/23', '065/23', '068/23'], ['5299193'], ['300240074'], ['202400076', '202400107', '202400116'], ['128/01/RA7'], ['2024-99240099', '2024-99240174', '2024-99240176', '2024-99240214'], ['2410706'], ['10217083109', '10218486950'], ['934572197'], ['2736204'], ['634987', '999999'], ['70884', '71310'], ['G.VRA01-019540 ', 'G.VRA01-019541 ', 'G.VRA01-019542 ', 'G.VRA01-019546 ', 'G.VRA01-019547 '], ['20100889'], ['90191597'], ['RE308037'], ['2455', '2456'], ['6024023708'], ['0123116947', '0124117468', '0124187205', '0124187208'], ['1324200152'], ['2440113'], ['RE29996', 'RE30000'], ['R/24003737'], ['9760226362', '9760232683'], ['423990'], ['1781323\\xa0 ', '1781324\\xa0 ', '1805686\\xa0 ', '1805687\\xa0 ', '1806334\\xa0 ', '1806335\\xa0 '], ['WR230270'], ['2806944'], ['222789'], ['321300', '321305', '920065', '920067'], ['RG000698'], ['244445409'], ['39685147'], ['39685182', '39685185'], ['39685973'], ['24106578'], ['3009446915', '3009461549', '3009461550', '3009461551', '3009470901', '3009470902', '3009470903', '3009479825', '3009479826', '3009485958', '3009485959', '3009490671', '3009497309', '3009497310', '3009505797', '3009505796', '3009505795', '3009505794', '3009514596', '3009522970', '3009540293', '3009540294', '3009540295', '3009540296', '3009549449', '3009549451', '3009549452', '3009557697', '3009557698', '3009557699', '3009557700', '3009557701', '3009557702', '3009557703', '3009563752', '3009563753', '3009563754', '3009563755', '3009565904', '3009575723', '3009592097', '3009592098', '3009598930', '3009601215', '3009601216', '3009616420', '3009616419', '3009616418', '3009616417', ' ', '3009625027.0', '3009625028.0', '3009625029.0', '3009632774.0', '3009632775.0', '3009632776.0', '3009639420.0', '3009639421.0', '3009639422.0', '3009650903.0', '3009650904.0', '3009650905.0', '3009650906.0'], ['8073482305', '8073488213', '8073511860', '8073510744'], ['RE24NI30161 / 4540149051 '], ['R-390527 '], ['US-PSI-1436822'], ['163833364'], ['1132487'], ['2400978'], ['2024050811'], ['10431207', '10667984', '11849709', '0000800351', '0000231149', '0000800949', '12437035', '12437036', '12478997', '12478998', '12478999', '12479000', '12479001', '12479002'], ['11873600', '12497239', '12497240', '12497241', '12497242', '12497243', '12497244'], ['18299199', '0000800352', '0000800649', '0000800950'], ['12437037', '12479003', '12479004'], ['12437025', '12437027', '12437028', '12437029', '12478990', '12478991', '12478992', '12478993', '12478994', '12478995', '12478996'], ['12236305', '12321808', '12437015', '12437022', '12478983', '12478984', '12478985', '12478986', '12478987', '12478988', '12478989'], ['202477686'], ['202477889'], ['202477985'], ['24-00196329', '24-00196330', '24-00196331', '24-00196332', '24-00196334', '24-00196335', '24-00196408', '24-00196435', '24-00196469', '24-00196544', '24-00196545', '24-00196546', '24-00196629', '24-00196657', '24-00196658', '24-00196944', '24-00196945', '24-00196946', '24-00196999', '24-00197000', '24-00197001', '24-00197002', '24-00197103', '24-00197104', '24-00197105', '24-00197106', '24-00197236', '24-00197271', '24-00197324 ', '24-00197567', '24-00197568', '24-00197569', '24-00197614', '24-00197615 ', '24-00197778 ', '24-00197989 ', '24-00198574', '24-00198575', '24-00198694', '24-00198695', '24-00198696', '24-00198697 ', '24-00198829', '24-00198830', '24-00198831', '24-00198833', '24-00198834', '24-00198835', '24-00198957 ', '24-00198958 '], ['8977325', '8977134', '8976164', '8975067', '8974409', '8973966', '79875'], ['550050632', '550050633', '550050634', '500551377', '203187460', '203187601', '203187628', '203187630', '550050957', '550050958', '550050959', '500553760', '511598298', '511598299', '511598300', '500553926', '511598743', '203187629', '500554265', '500554266', '500554804', '500555002', '500555003', '500555004', '500555164', '500555202', '500555203', '500555207', '500555209', '500555211', '500555214', '500555216', '500555218', '203188666', '203188668', '203188669', '203188670', '500555957', '500555958', '500555959', '500556034', '511601268', '550051337', '550051338', '550051339', '511601424', '561061171', '561061172', '561061173', '561061174', '561061175.0', '561061176.0', '561061177.0', '561061178.0', '561061179.0', '561061180.0', '561061181.0', '511601637.0', '511601638.0', '511601640.0', '511601642.0', '511601643.0', '511601941.0', '203188667.0', '203189291.0', '511602137.0', '511602210.0', '500557329.0', '550051388.0', '511602675.0', '500557729.0', '500557730.0', '203189664.0', '203189939.0', '203189938.0'], ['24302231'], ['00000417624', '00000418178', '00000418365', '00000418366', '00000418367', '00000418604'], ['1178597', '1178715', '1179113'], ['1102095161'], ['UIP-RO-76238 '], ['390004983', '0090232152', '0090232153', '0090232154', '0090232155', '0090232156', '0090232157', '0090232158', '0090232159', '0090232160', '0090232161', '0090232162', '0090232402', '0090232403', '0090232476', '0090232477', '0090232478', '0090232555', '0090232556', '0390006112', '0390006111', '0390006109', '0090232639', '0090232778', '0090232779', '0090232780', '0090232881', '0090232966', '0090233108', '0090233109', '0090233208', '0090233209', '0090233210', '0090233403', '0090233719', '0090234275', '0090234482', '0090234578', '0090234579', '0090234664', '0090234665', '0090234773', '0090234774', '0090234960', '0090235079', '0090235080', '0090235186', '0090235187', '0090235271', '0090235272', '90235329.0', '90235330.0', '90235331.0', '90235332.0', '90235333.0', '90235334.0', '90235404.0', '90235405.0']]\n"
     ]
    }
   ],
   "source": [
    "# Import image processing and OCR tools\n",
    "from PIL import Image\n",
    "from pytesseract import image_to_string\n",
    "from pdf2image import convert_from_path\n",
    "from transformers import BertTokenizer, BertForTokenClassification, Trainer, TrainingArguments, DistilBertTokenizer\n",
    "import torch\n",
    "from sklearn.model_selection import train_test_split\n",
    "import pandas as pd\n",
    "import os\n",
    "from natsort import natsorted  # For naturally sorted lists (e.g., invoice1, invoice2, invoice10)\n",
    "\n",
    "# Converts a PDF file into a list of image objects (one per page)\n",
    "def pdf_to_image(pdf_file):\n",
    "    return convert_from_path(pdf_file)\n",
    "\n",
    "# Performs OCR (optical character recognition) on a single image file\n",
    "def image_to_text(file):\n",
    "    return image_to_string(file)\n",
    "\n",
    "# Processes a full PDF file: converts to images → performs OCR → combines the text from all pages\n",
    "def get_text_from_any_pdf(pdf_file):\n",
    "    images = pdf_to_image(pdf_file)\n",
    "    final_text = \"\"\n",
    "    for pg, img in enumerate(images):\n",
    "        final_text += image_to_text(img)\n",
    "    return final_text\n",
    "\n",
    "# List of PDF invoice files to be processed\n",
    "pdfs = [\"invoice1.pdf\", \"invoice2.pdf\", \"invoice3.pdf\"]\n",
    "\n",
    "# Load the Excel file containing ground truth invoice numbers\n",
    "invoice_numbers_path = \"invoices.xlsx\"\n",
    "df = pd.read_excel(invoice_numbers_path)\n",
    "\n",
    "# Extract invoice numbers from the Excel file\n",
    "invoice_numbers = []\n",
    "for index, row in df.iterrows():\n",
    "    invoice_number = row[1:].dropna().tolist()\n",
    "    invoice_number = [str(num) for num in invoice_number if num is not None]\n",
    "    invoice_numbers.append(invoice_number)\n",
    "\n",
    "\n",
    "# Extract text from all invoice PDFs using OCR\n",
    "texts = [get_text_from_any_pdf(pdf) for pdf in pdfs]\n"
   ]
  },
  {
   "cell_type": "markdown",
   "metadata": {},
   "source": [
    "### Bereinigung der Daten"
   ]
  },
  {
   "cell_type": "code",
   "execution_count": 32,
   "metadata": {},
   "outputs": [
    {
     "name": "stderr",
     "output_type": "stream",
     "text": [
      "Some weights of LongformerForTokenClassification were not initialized from the model checkpoint at allenai/longformer-base-4096 and are newly initialized: ['classifier.bias', 'classifier.weight']\n",
      "You should probably TRAIN this model on a down-stream task to be able to use it for predictions and inference.\n",
      "Map: 100%|██████████| 181/181 [00:00<00:00, 889.74 examples/s]\n",
      "Map: 100%|██████████| 45/45 [00:00<00:00, 821.20 examples/s]\n"
     ]
    }
   ],
   "source": [
    "from transformers import LongformerTokenizerFast, LongformerForTokenClassification\n",
    "from datasets import Dataset, DatasetDict\n",
    "import torch\n",
    "from sklearn.model_selection import train_test_split\n",
    "\n",
    "# Split PDFs, invoice number labels and extracted texts into training and test sets\n",
    "train_pdfs, test_pdfs, train_labels, test_labels, train_texts, test_texts = train_test_split(\n",
    "    pdfs, invoice_numbers, texts, test_size=0.2, random_state=42\n",
    ")\n",
    "\n",
    "# Load Longformer tokenizer and model for token classification (e.g., NER-style)\n",
    "tokenizer = LongformerTokenizerFast.from_pretrained(\"allenai/longformer-base-4096\", add_prefix_space=True)\n",
    "model = LongformerForTokenClassification.from_pretrained(\"allenai/longformer-base-4096\", num_labels=3)\n",
    "# Labels: 0 = O (outside), 1 = B (beginning of entity), 2 = I (inside of entity)\n",
    "\n",
    "# Convert a list of tokens and known labels (e.g., invoice numbers) into NER-style tags\n",
    "def label_tokens(tokens, labels):\n",
    "    ner_tags = [0] * len(tokens)  # Default to \"O\" (no entity)\n",
    "    for label in labels:\n",
    "        label_parts = label.split()\n",
    "        for i in range(len(tokens) - len(label_parts) + 1):\n",
    "            if tokens[i:i+len(label_parts)] == label_parts:\n",
    "                ner_tags[i] = 1  # \"B\" – beginning of the entity\n",
    "                for j in range(1, len(label_parts)):\n",
    "                    ner_tags[i + j] = 2  # \"I\" – inside the entity\n",
    "                break\n",
    "    return ner_tags\n",
    "\n",
    "# Split the token sequence into overlapping segments suitable for Longformer input length\n",
    "def split_into_segments(text, labels, max_length=2648, overlap=256):\n",
    "    tokens = text.split()\n",
    "    ner_tags = label_tokens(tokens, labels)\n",
    "    segments = []\n",
    "    for start_idx in range(0, len(tokens), max_length - overlap):\n",
    "        end_idx = min(start_idx + max_length, len(tokens))\n",
    "        segment_tokens = tokens[start_idx:end_idx]\n",
    "        segment_labels = ner_tags[start_idx:end_idx]\n",
    "        segments.append({\"tokens\": segment_tokens, \"ner_tags\": segment_labels})\n",
    "        if end_idx == len(tokens):\n",
    "            break\n",
    "    return segments\n",
    "\n",
    "# Create training segments by slicing text + labels into overlapping token windows\n",
    "train_data = []\n",
    "for text, labels in zip(train_texts, train_labels):\n",
    "    train_data.extend(split_into_segments(text, labels))\n",
    "\n",
    "# Do the same for the test data\n",
    "test_data = []\n",
    "for text, labels in zip(test_texts, test_labels):\n",
    "    test_data.extend(split_into_segments(text, labels))\n",
    "\n",
    "# Convert to Hugging Face Dataset format\n",
    "train_dataset = Dataset.from_list(train_data)\n",
    "test_dataset = Dataset.from_list(test_data)\n",
    "\n",
    "# Tokenize the input tokens and align the NER labels accordingly\n",
    "def tokenize_and_align_labels(examples):\n",
    "    tokenized_inputs = tokenizer(\n",
    "        examples[\"tokens\"],\n",
    "        truncation=True,\n",
    "        padding=\"max_length\",\n",
    "        max_length=2648,\n",
    "        is_split_into_words=True,\n",
    "        add_special_tokens=True\n",
    "    )\n",
    "    \n",
    "    labels = []\n",
    "    for i, label in enumerate(examples[\"ner_tags\"]):\n",
    "        word_ids = tokenized_inputs.word_ids(batch_index=i)\n",
    "        previous_word_idx = None\n",
    "        label_ids = []\n",
    "        for word_idx in word_ids:\n",
    "            if word_idx is None:\n",
    "                label_ids.append(-100)  \n",
    "            elif word_idx != previous_word_idx:\n",
    "                label_ids.append(label[word_idx])\n",
    "            else:\n",
    "                label_ids.append(-100) \n",
    "            previous_word_idx = word_idx\n",
    "        labels.append(label_ids)\n",
    "    \n",
    "    tokenized_inputs[\"labels\"] = torch.tensor(labels)\n",
    "    return tokenized_inputs\n",
    "\n",
    "# Apply tokenization and label alignment to training and test datasets\n",
    "train_tokenized = train_dataset.map(tokenize_and_align_labels, batched=True)\n",
    "test_tokenized = test_dataset.map(tokenize_and_align_labels, batched=True)\n",
    "\n",
    "# Create a DatasetDict for use in training/evaluation\n",
    "dataset = DatasetDict({\"train\": train_tokenized, \"test\": test_tokenized})\n"
   ]
  },
  {
   "cell_type": "code",
   "execution_count": 33,
   "metadata": {},
   "outputs": [
    {
     "data": {
      "text/html": [
       "Finishing last run (ID:fqnm99u0) before initializing another..."
      ],
      "text/plain": [
       "<IPython.core.display.HTML object>"
      ]
     },
     "metadata": {},
     "output_type": "display_data"
    },
    {
     "data": {
      "text/html": [
       "<style>\n",
       "    table.wandb td:nth-child(1) { padding: 0 10px; text-align: left ; width: auto;} td:nth-child(2) {text-align: left ; width: 100%}\n",
       "    .wandb-row { display: flex; flex-direction: row; flex-wrap: wrap; justify-content: flex-start; width: 100% }\n",
       "    .wandb-col { display: flex; flex-direction: column; flex-basis: 100%; flex: 1; padding: 10px; }\n",
       "    </style>\n",
       "<div class=\"wandb-row\"><div class=\"wandb-col\"><h3>Run history:</h3><br/><table class=\"wandb\"><tr><td>eval/accuracy</td><td>▁▆█</td></tr><tr><td>eval/f1</td><td>▁▅█</td></tr><tr><td>eval/loss</td><td>█▁▁</td></tr><tr><td>eval/precision</td><td>▁▅█</td></tr><tr><td>eval/recall</td><td>▁▆█</td></tr><tr><td>eval/runtime</td><td>▁█▂</td></tr><tr><td>eval/samples_per_second</td><td>█▁▆</td></tr><tr><td>eval/steps_per_second</td><td>█▁▆</td></tr><tr><td>train/epoch</td><td>▁▁▁▂▂▂▂▂▃▃▃▃▃▄▄▄▄▄▅▅▅▅▅▆▆▆▆▆▆▇▇▇▇▇████</td></tr><tr><td>train/global_step</td><td>▁▁▁▂▂▂▂▂▃▃▃▃▃▄▄▄▄▄▅▅▅▅▅▆▆▆▆▆▆▇▇▇▇▇████</td></tr><tr><td>train/grad_norm</td><td>▅▂▂▁▁▁▁▁▇▂▂▃▆█▅▂▂▄▂▂▁▂▂▁▁▁▂▁▁▃▄▁▂▁</td></tr><tr><td>train/learning_rate</td><td>███▇▇▇▇▇▆▆▆▆▅▅▅▅▅▄▄▄▄▄▃▃▃▃▂▂▂▂▂▁▁▁</td></tr><tr><td>train/loss</td><td>█▃▃▃▂▂▂▃▃▂▂▁▂▁▃▂▂▁▂▁▁▂▁▁▁▁▁▁▁▁▂▁▁▁</td></tr></table><br/></div><div class=\"wandb-col\"><h3>Run summary:</h3><br/><table class=\"wandb\"><tr><td>eval/accuracy</td><td>0.9965</td></tr><tr><td>eval/f1</td><td>0.9965</td></tr><tr><td>eval/loss</td><td>0.00885</td></tr><tr><td>eval/precision</td><td>0.9965</td></tr><tr><td>eval/recall</td><td>0.9965</td></tr><tr><td>eval/runtime</td><td>10.0432</td></tr><tr><td>eval/samples_per_second</td><td>2.888</td></tr><tr><td>eval/steps_per_second</td><td>2.888</td></tr><tr><td>total_flos</td><td>582776106801840.0</td></tr><tr><td>train/epoch</td><td>3.0</td></tr><tr><td>train/global_step</td><td>345</td></tr><tr><td>train/grad_norm</td><td>0.05129</td></tr><tr><td>train/learning_rate</td><td>0.0</td></tr><tr><td>train/loss</td><td>0.0175</td></tr><tr><td>train_loss</td><td>0.03556</td></tr><tr><td>train_runtime</td><td>599.315</td></tr><tr><td>train_samples_per_second</td><td>0.576</td></tr><tr><td>train_steps_per_second</td><td>0.576</td></tr></table><br/></div></div>"
      ],
      "text/plain": [
       "<IPython.core.display.HTML object>"
      ]
     },
     "metadata": {},
     "output_type": "display_data"
    },
    {
     "data": {
      "text/html": [
       " View run <strong style=\"color:#cdcd00\">sage-eon-8</strong> at: <a href='https://wandb.ai/universityofbayreuth-lars-raufer/Training%20Plots/runs/fqnm99u0' target=\"_blank\">https://wandb.ai/universityofbayreuth-lars-raufer/Training%20Plots/runs/fqnm99u0</a><br/> View project at: <a href='https://wandb.ai/universityofbayreuth-lars-raufer/Training%20Plots' target=\"_blank\">https://wandb.ai/universityofbayreuth-lars-raufer/Training%20Plots</a><br/>Synced 5 W&B file(s), 0 media file(s), 0 artifact file(s) and 0 other file(s)"
      ],
      "text/plain": [
       "<IPython.core.display.HTML object>"
      ]
     },
     "metadata": {},
     "output_type": "display_data"
    },
    {
     "data": {
      "text/html": [
       "Find logs at: <code>./wandb/run-20240804_081819-fqnm99u0/logs</code>"
      ],
      "text/plain": [
       "<IPython.core.display.HTML object>"
      ]
     },
     "metadata": {},
     "output_type": "display_data"
    },
    {
     "data": {
      "text/html": [
       "The new W&B backend becomes opt-out in version 0.18.0; try it out with `wandb.require(\"core\")`! See https://wandb.me/wandb-core for more information."
      ],
      "text/plain": [
       "<IPython.core.display.HTML object>"
      ]
     },
     "metadata": {},
     "output_type": "display_data"
    },
    {
     "data": {
      "text/html": [
       "Successfully finished last run (ID:fqnm99u0). Initializing new run:<br/>"
      ],
      "text/plain": [
       "<IPython.core.display.HTML object>"
      ]
     },
     "metadata": {},
     "output_type": "display_data"
    },
    {
     "data": {
      "text/html": [
       "wandb version 0.17.5 is available!  To upgrade, please run:\n",
       " $ pip install wandb --upgrade"
      ],
      "text/plain": [
       "<IPython.core.display.HTML object>"
      ]
     },
     "metadata": {},
     "output_type": "display_data"
    },
    {
     "data": {
      "text/html": [
       "Tracking run with wandb version 0.17.3"
      ],
      "text/plain": [
       "<IPython.core.display.HTML object>"
      ]
     },
     "metadata": {},
     "output_type": "display_data"
    },
    {
     "data": {
      "text/html": [
       "Run data is saved locally in <code>/Users/larsraufer/Desktop/D&E/Applied AI/invoice_number_extraction/wandb/run-20240804_083848-9uva2mre</code>"
      ],
      "text/plain": [
       "<IPython.core.display.HTML object>"
      ]
     },
     "metadata": {},
     "output_type": "display_data"
    },
    {
     "data": {
      "text/html": [
       "Syncing run <strong><a href='https://wandb.ai/universityofbayreuth-lars-raufer/Training%20Plots/runs/9uva2mre' target=\"_blank\">rosy-disco-9</a></strong> to <a href='https://wandb.ai/universityofbayreuth-lars-raufer/Training%20Plots' target=\"_blank\">Weights & Biases</a> (<a href='https://wandb.me/run' target=\"_blank\">docs</a>)<br/>"
      ],
      "text/plain": [
       "<IPython.core.display.HTML object>"
      ]
     },
     "metadata": {},
     "output_type": "display_data"
    },
    {
     "data": {
      "text/html": [
       " View project at <a href='https://wandb.ai/universityofbayreuth-lars-raufer/Training%20Plots' target=\"_blank\">https://wandb.ai/universityofbayreuth-lars-raufer/Training%20Plots</a>"
      ],
      "text/plain": [
       "<IPython.core.display.HTML object>"
      ]
     },
     "metadata": {},
     "output_type": "display_data"
    },
    {
     "data": {
      "text/html": [
       " View run at <a href='https://wandb.ai/universityofbayreuth-lars-raufer/Training%20Plots/runs/9uva2mre' target=\"_blank\">https://wandb.ai/universityofbayreuth-lars-raufer/Training%20Plots/runs/9uva2mre</a>"
      ],
      "text/plain": [
       "<IPython.core.display.HTML object>"
      ]
     },
     "metadata": {},
     "output_type": "display_data"
    },
    {
     "name": "stderr",
     "output_type": "stream",
     "text": [
      "Map: 100%|██████████| 144/144 [00:00<00:00, 1001.06 examples/s]\n",
      "Map: 100%|██████████| 37/37 [00:00<00:00, 914.06 examples/s]\n",
      "Map: 100%|██████████| 45/45 [00:00<00:00, 891.14 examples/s]\n",
      "Some weights of LongformerForTokenClassification were not initialized from the model checkpoint at allenai/longformer-base-4096 and are newly initialized: ['classifier.bias', 'classifier.weight']\n",
      "You should probably TRAIN this model on a down-stream task to be able to use it for predictions and inference.\n",
      "/Users/larsraufer/Library/Python/3.9/lib/python/site-packages/transformers/training_args.py:1474: FutureWarning: `evaluation_strategy` is deprecated and will be removed in version 4.46 of 🤗 Transformers. Use `eval_strategy` instead\n",
      "  warnings.warn(\n",
      "  2%|▏         | 10/432 [00:12<08:34,  1.22s/it]"
     ]
    },
    {
     "name": "stdout",
     "output_type": "stream",
     "text": [
      "{'loss': 0.2715, 'grad_norm': 0.4567939043045044, 'learning_rate': 4.8842592592592595e-05, 'epoch': 0.07}\n"
     ]
    },
    {
     "name": "stderr",
     "output_type": "stream",
     "text": [
      "  5%|▍         | 20/432 [00:24<08:20,  1.21s/it]"
     ]
    },
    {
     "name": "stdout",
     "output_type": "stream",
     "text": [
      "{'loss': 0.0364, 'grad_norm': 0.7079790830612183, 'learning_rate': 4.768518518518519e-05, 'epoch': 0.14}\n"
     ]
    },
    {
     "name": "stderr",
     "output_type": "stream",
     "text": [
      "  7%|▋         | 30/432 [00:36<08:09,  1.22s/it]"
     ]
    },
    {
     "name": "stdout",
     "output_type": "stream",
     "text": [
      "{'loss': 0.0389, 'grad_norm': 0.4950207769870758, 'learning_rate': 4.652777777777778e-05, 'epoch': 0.21}\n"
     ]
    },
    {
     "name": "stderr",
     "output_type": "stream",
     "text": [
      "  9%|▉         | 40/432 [00:48<07:57,  1.22s/it]"
     ]
    },
    {
     "name": "stdout",
     "output_type": "stream",
     "text": [
      "{'loss': 0.0327, 'grad_norm': 1.4512842893600464, 'learning_rate': 4.5370370370370374e-05, 'epoch': 0.28}\n"
     ]
    },
    {
     "name": "stderr",
     "output_type": "stream",
     "text": [
      " 12%|█▏        | 50/432 [01:01<07:52,  1.24s/it]"
     ]
    },
    {
     "name": "stdout",
     "output_type": "stream",
     "text": [
      "{'loss': 0.008, 'grad_norm': 0.6532037258148193, 'learning_rate': 4.4212962962962966e-05, 'epoch': 0.35}\n"
     ]
    },
    {
     "name": "stderr",
     "output_type": "stream",
     "text": [
      " 14%|█▍        | 60/432 [01:13<07:43,  1.25s/it]"
     ]
    },
    {
     "name": "stdout",
     "output_type": "stream",
     "text": [
      "{'loss': 0.0111, 'grad_norm': 1.9831533432006836, 'learning_rate': 4.305555555555556e-05, 'epoch': 0.42}\n"
     ]
    },
    {
     "name": "stderr",
     "output_type": "stream",
     "text": [
      " 16%|█▌        | 70/432 [01:26<07:35,  1.26s/it]"
     ]
    },
    {
     "name": "stdout",
     "output_type": "stream",
     "text": [
      "{'loss': 0.0213, 'grad_norm': 1.0427509546279907, 'learning_rate': 4.1898148148148145e-05, 'epoch': 0.49}\n"
     ]
    },
    {
     "name": "stderr",
     "output_type": "stream",
     "text": [
      " 19%|█▊        | 80/432 [01:38<07:27,  1.27s/it]"
     ]
    },
    {
     "name": "stdout",
     "output_type": "stream",
     "text": [
      "{'loss': 0.0164, 'grad_norm': 0.8418188691139221, 'learning_rate': 4.074074074074074e-05, 'epoch': 0.56}\n"
     ]
    },
    {
     "name": "stderr",
     "output_type": "stream",
     "text": [
      " 21%|██        | 90/432 [01:51<07:05,  1.24s/it]"
     ]
    },
    {
     "name": "stdout",
     "output_type": "stream",
     "text": [
      "{'loss': 0.0226, 'grad_norm': 0.049703292548656464, 'learning_rate': 3.958333333333333e-05, 'epoch': 0.62}\n"
     ]
    },
    {
     "name": "stderr",
     "output_type": "stream",
     "text": [
      " 23%|██▎       | 100/432 [02:03<06:54,  1.25s/it]"
     ]
    },
    {
     "name": "stdout",
     "output_type": "stream",
     "text": [
      "{'loss': 0.0279, 'grad_norm': 0.2990001440048218, 'learning_rate': 3.8425925925925924e-05, 'epoch': 0.69}\n"
     ]
    },
    {
     "name": "stderr",
     "output_type": "stream",
     "text": [
      " 25%|██▌       | 110/432 [02:16<06:41,  1.25s/it]"
     ]
    },
    {
     "name": "stdout",
     "output_type": "stream",
     "text": [
      "{'loss': 0.0144, 'grad_norm': 2.3499555587768555, 'learning_rate': 3.726851851851852e-05, 'epoch': 0.76}\n"
     ]
    },
    {
     "name": "stderr",
     "output_type": "stream",
     "text": [
      " 28%|██▊       | 120/432 [02:28<06:25,  1.24s/it]"
     ]
    },
    {
     "name": "stdout",
     "output_type": "stream",
     "text": [
      "{'loss': 0.0132, 'grad_norm': 1.161244511604309, 'learning_rate': 3.611111111111111e-05, 'epoch': 0.83}\n"
     ]
    },
    {
     "name": "stderr",
     "output_type": "stream",
     "text": [
      " 30%|███       | 130/432 [02:40<06:10,  1.23s/it]"
     ]
    },
    {
     "name": "stdout",
     "output_type": "stream",
     "text": [
      "{'loss': 0.0089, 'grad_norm': 0.4722730815410614, 'learning_rate': 3.49537037037037e-05, 'epoch': 0.9}\n"
     ]
    },
    {
     "name": "stderr",
     "output_type": "stream",
     "text": [
      " 32%|███▏      | 140/432 [02:53<06:02,  1.24s/it]"
     ]
    },
    {
     "name": "stdout",
     "output_type": "stream",
     "text": [
      "{'loss': 0.0253, 'grad_norm': 1.0906095504760742, 'learning_rate': 3.3796296296296295e-05, 'epoch': 0.97}\n"
     ]
    },
    {
     "name": "stderr",
     "output_type": "stream",
     "text": [
      " 33%|███▎      | 144/432 [02:58<05:59,  1.25s/it]\n",
      " 33%|███▎      | 144/432 [03:09<05:59,  1.25s/it]"
     ]
    },
    {
     "name": "stdout",
     "output_type": "stream",
     "text": [
      "{'eval_loss': 0.03217974305152893, 'eval_accuracy': 0.9833600641539695, 'eval_precision': 0.9872079311167995, 'eval_recall': 0.9833600641539695, 'eval_f1': 0.9848811071019052, 'eval_runtime': 10.8992, 'eval_samples_per_second': 3.395, 'eval_steps_per_second': 3.395, 'epoch': 1.0}\n"
     ]
    },
    {
     "name": "stderr",
     "output_type": "stream",
     "text": [
      " 35%|███▍      | 150/432 [03:17<08:47,  1.87s/it]"
     ]
    },
    {
     "name": "stdout",
     "output_type": "stream",
     "text": [
      "{'loss': 0.0096, 'grad_norm': 0.40233978629112244, 'learning_rate': 3.263888888888889e-05, 'epoch': 1.04}\n"
     ]
    },
    {
     "name": "stderr",
     "output_type": "stream",
     "text": [
      " 37%|███▋      | 160/432 [03:30<06:36,  1.46s/it]"
     ]
    },
    {
     "name": "stdout",
     "output_type": "stream",
     "text": [
      "{'loss': 0.0231, 'grad_norm': 0.02899923175573349, 'learning_rate': 3.148148148148148e-05, 'epoch': 1.11}\n"
     ]
    },
    {
     "name": "stderr",
     "output_type": "stream",
     "text": [
      " 39%|███▉      | 170/432 [03:46<06:46,  1.55s/it]"
     ]
    },
    {
     "name": "stdout",
     "output_type": "stream",
     "text": [
      "{'loss': 0.0102, 'grad_norm': 2.4802985191345215, 'learning_rate': 3.0324074074074077e-05, 'epoch': 1.18}\n"
     ]
    },
    {
     "name": "stderr",
     "output_type": "stream",
     "text": [
      " 42%|████▏     | 180/432 [04:02<07:03,  1.68s/it]"
     ]
    },
    {
     "name": "stdout",
     "output_type": "stream",
     "text": [
      "{'loss': 0.012, 'grad_norm': 1.970279335975647, 'learning_rate': 2.916666666666667e-05, 'epoch': 1.25}\n"
     ]
    },
    {
     "name": "stderr",
     "output_type": "stream",
     "text": [
      " 44%|████▍     | 190/432 [04:21<08:07,  2.01s/it]"
     ]
    },
    {
     "name": "stdout",
     "output_type": "stream",
     "text": [
      "{'loss': 0.0042, 'grad_norm': 0.058812957257032394, 'learning_rate': 2.8009259259259263e-05, 'epoch': 1.32}\n"
     ]
    },
    {
     "name": "stderr",
     "output_type": "stream",
     "text": [
      " 46%|████▋     | 200/432 [04:46<10:07,  2.62s/it]"
     ]
    },
    {
     "name": "stdout",
     "output_type": "stream",
     "text": [
      "{'loss': 0.0047, 'grad_norm': 1.195839762687683, 'learning_rate': 2.6851851851851855e-05, 'epoch': 1.39}\n"
     ]
    },
    {
     "name": "stderr",
     "output_type": "stream",
     "text": [
      " 49%|████▊     | 210/432 [05:23<15:30,  4.19s/it]"
     ]
    },
    {
     "name": "stdout",
     "output_type": "stream",
     "text": [
      "{'loss': 0.0072, 'grad_norm': 0.3797859251499176, 'learning_rate': 2.5694444444444445e-05, 'epoch': 1.46}\n"
     ]
    },
    {
     "name": "stderr",
     "output_type": "stream",
     "text": [
      " 51%|█████     | 220/432 [06:20<19:29,  5.52s/it]"
     ]
    },
    {
     "name": "stdout",
     "output_type": "stream",
     "text": [
      "{'loss': 0.0174, 'grad_norm': 0.12356935441493988, 'learning_rate': 2.4537037037037038e-05, 'epoch': 1.53}\n"
     ]
    },
    {
     "name": "stderr",
     "output_type": "stream",
     "text": [
      " 53%|█████▎    | 230/432 [06:53<09:52,  2.93s/it]"
     ]
    },
    {
     "name": "stdout",
     "output_type": "stream",
     "text": [
      "{'loss': 0.0048, 'grad_norm': 0.06218455731868744, 'learning_rate': 2.337962962962963e-05, 'epoch': 1.6}\n"
     ]
    },
    {
     "name": "stderr",
     "output_type": "stream",
     "text": [
      " 56%|█████▌    | 240/432 [07:18<07:31,  2.35s/it]"
     ]
    },
    {
     "name": "stdout",
     "output_type": "stream",
     "text": [
      "{'loss': 0.0161, 'grad_norm': 0.30486559867858887, 'learning_rate': 2.2222222222222223e-05, 'epoch': 1.67}\n"
     ]
    },
    {
     "name": "stderr",
     "output_type": "stream",
     "text": [
      " 58%|█████▊    | 250/432 [07:39<06:21,  2.10s/it]"
     ]
    },
    {
     "name": "stdout",
     "output_type": "stream",
     "text": [
      "{'loss': 0.0114, 'grad_norm': 0.09630337357521057, 'learning_rate': 2.1064814814814816e-05, 'epoch': 1.74}\n"
     ]
    },
    {
     "name": "stderr",
     "output_type": "stream",
     "text": [
      " 60%|██████    | 260/432 [07:59<05:20,  1.86s/it]"
     ]
    },
    {
     "name": "stdout",
     "output_type": "stream",
     "text": [
      "{'loss': 0.0077, 'grad_norm': 1.655773401260376, 'learning_rate': 1.990740740740741e-05, 'epoch': 1.81}\n"
     ]
    },
    {
     "name": "stderr",
     "output_type": "stream",
     "text": [
      " 62%|██████▎   | 270/432 [08:16<04:43,  1.75s/it]"
     ]
    },
    {
     "name": "stdout",
     "output_type": "stream",
     "text": [
      "{'loss': 0.0063, 'grad_norm': 0.7347911596298218, 'learning_rate': 1.8750000000000002e-05, 'epoch': 1.88}\n"
     ]
    },
    {
     "name": "stderr",
     "output_type": "stream",
     "text": [
      " 65%|██████▍   | 280/432 [08:33<04:08,  1.64s/it]"
     ]
    },
    {
     "name": "stdout",
     "output_type": "stream",
     "text": [
      "{'loss': 0.022, 'grad_norm': 0.11158540844917297, 'learning_rate': 1.7592592592592595e-05, 'epoch': 1.94}\n"
     ]
    },
    {
     "name": "stderr",
     "output_type": "stream",
     "text": [
      " 67%|██████▋   | 288/432 [08:46<03:50,  1.60s/it]\n",
      " 67%|██████▋   | 288/432 [08:59<03:50,  1.60s/it]"
     ]
    },
    {
     "name": "stdout",
     "output_type": "stream",
     "text": [
      "{'eval_loss': 0.023595264181494713, 'eval_accuracy': 0.9941860465116279, 'eval_precision': 0.9940428264648217, 'eval_recall': 0.9941860465116279, 'eval_f1': 0.9941015233752724, 'eval_runtime': 13.6255, 'eval_samples_per_second': 2.715, 'eval_steps_per_second': 2.715, 'epoch': 2.0}\n"
     ]
    },
    {
     "name": "stderr",
     "output_type": "stream",
     "text": [
      " 67%|██████▋   | 290/432 [09:02<10:25,  4.41s/it]"
     ]
    },
    {
     "name": "stdout",
     "output_type": "stream",
     "text": [
      "{'loss': 0.0049, 'grad_norm': 0.5104025602340698, 'learning_rate': 1.6435185185185187e-05, 'epoch': 2.01}\n"
     ]
    },
    {
     "name": "stderr",
     "output_type": "stream",
     "text": [
      " 69%|██████▉   | 300/432 [09:17<03:25,  1.56s/it]"
     ]
    },
    {
     "name": "stdout",
     "output_type": "stream",
     "text": [
      "{'loss': 0.0006, 'grad_norm': 0.05631968379020691, 'learning_rate': 1.527777777777778e-05, 'epoch': 2.08}\n"
     ]
    },
    {
     "name": "stderr",
     "output_type": "stream",
     "text": [
      " 72%|███████▏  | 310/432 [09:32<03:04,  1.51s/it]"
     ]
    },
    {
     "name": "stdout",
     "output_type": "stream",
     "text": [
      "{'loss': 0.0023, 'grad_norm': 0.015363921411335468, 'learning_rate': 1.412037037037037e-05, 'epoch': 2.15}\n"
     ]
    },
    {
     "name": "stderr",
     "output_type": "stream",
     "text": [
      " 74%|███████▍  | 320/432 [09:46<02:37,  1.41s/it]"
     ]
    },
    {
     "name": "stdout",
     "output_type": "stream",
     "text": [
      "{'loss': 0.0057, 'grad_norm': 0.5691056251525879, 'learning_rate': 1.2962962962962962e-05, 'epoch': 2.22}\n"
     ]
    },
    {
     "name": "stderr",
     "output_type": "stream",
     "text": [
      " 76%|███████▋  | 330/432 [10:00<02:22,  1.39s/it]"
     ]
    },
    {
     "name": "stdout",
     "output_type": "stream",
     "text": [
      "{'loss': 0.003, 'grad_norm': 0.35481399297714233, 'learning_rate': 1.1805555555555555e-05, 'epoch': 2.29}\n"
     ]
    },
    {
     "name": "stderr",
     "output_type": "stream",
     "text": [
      " 79%|███████▊  | 340/432 [10:14<02:07,  1.38s/it]"
     ]
    },
    {
     "name": "stdout",
     "output_type": "stream",
     "text": [
      "{'loss': 0.0048, 'grad_norm': 0.013399564661085606, 'learning_rate': 1.0648148148148148e-05, 'epoch': 2.36}\n"
     ]
    },
    {
     "name": "stderr",
     "output_type": "stream",
     "text": [
      " 81%|████████  | 350/432 [10:28<01:50,  1.35s/it]"
     ]
    },
    {
     "name": "stdout",
     "output_type": "stream",
     "text": [
      "{'loss': 0.0087, 'grad_norm': 0.014767120592296124, 'learning_rate': 9.490740740740741e-06, 'epoch': 2.43}\n"
     ]
    },
    {
     "name": "stderr",
     "output_type": "stream",
     "text": [
      " 83%|████████▎ | 360/432 [10:41<01:35,  1.33s/it]"
     ]
    },
    {
     "name": "stdout",
     "output_type": "stream",
     "text": [
      "{'loss': 0.0005, 'grad_norm': 0.019239401444792747, 'learning_rate': 8.333333333333334e-06, 'epoch': 2.5}\n"
     ]
    },
    {
     "name": "stderr",
     "output_type": "stream",
     "text": [
      " 86%|████████▌ | 370/432 [10:54<01:22,  1.33s/it]"
     ]
    },
    {
     "name": "stdout",
     "output_type": "stream",
     "text": [
      "{'loss': 0.009, 'grad_norm': 0.07941092550754547, 'learning_rate': 7.1759259259259266e-06, 'epoch': 2.57}\n"
     ]
    },
    {
     "name": "stderr",
     "output_type": "stream",
     "text": [
      " 88%|████████▊ | 380/432 [11:08<01:08,  1.32s/it]"
     ]
    },
    {
     "name": "stdout",
     "output_type": "stream",
     "text": [
      "{'loss': 0.0079, 'grad_norm': 0.03159521892666817, 'learning_rate': 6.0185185185185185e-06, 'epoch': 2.64}\n"
     ]
    },
    {
     "name": "stderr",
     "output_type": "stream",
     "text": [
      " 90%|█████████ | 390/432 [11:21<00:55,  1.31s/it]"
     ]
    },
    {
     "name": "stdout",
     "output_type": "stream",
     "text": [
      "{'loss': 0.0007, 'grad_norm': 0.01568486914038658, 'learning_rate': 4.861111111111111e-06, 'epoch': 2.71}\n"
     ]
    },
    {
     "name": "stderr",
     "output_type": "stream",
     "text": [
      " 93%|█████████▎| 400/432 [11:34<00:41,  1.30s/it]"
     ]
    },
    {
     "name": "stdout",
     "output_type": "stream",
     "text": [
      "{'loss': 0.0032, 'grad_norm': 0.500495195388794, 'learning_rate': 3.7037037037037037e-06, 'epoch': 2.78}\n"
     ]
    },
    {
     "name": "stderr",
     "output_type": "stream",
     "text": [
      " 95%|█████████▍| 410/432 [11:47<00:28,  1.31s/it]"
     ]
    },
    {
     "name": "stdout",
     "output_type": "stream",
     "text": [
      "{'loss': 0.0005, 'grad_norm': 0.06784765422344208, 'learning_rate': 2.546296296296296e-06, 'epoch': 2.85}\n"
     ]
    },
    {
     "name": "stderr",
     "output_type": "stream",
     "text": [
      " 97%|█████████▋| 420/432 [12:00<00:15,  1.31s/it]"
     ]
    },
    {
     "name": "stdout",
     "output_type": "stream",
     "text": [
      "{'loss': 0.0082, 'grad_norm': 0.9436576962471008, 'learning_rate': 1.388888888888889e-06, 'epoch': 2.92}\n"
     ]
    },
    {
     "name": "stderr",
     "output_type": "stream",
     "text": [
      "100%|█████████▉| 430/432 [12:13<00:02,  1.31s/it]"
     ]
    },
    {
     "name": "stdout",
     "output_type": "stream",
     "text": [
      "{'loss': 0.002, 'grad_norm': 0.4477320611476898, 'learning_rate': 2.3148148148148148e-07, 'epoch': 2.99}\n"
     ]
    },
    {
     "name": "stderr",
     "output_type": "stream",
     "text": [
      "                                                 \n",
      "100%|██████████| 432/432 [12:27<00:00,  1.73s/it]"
     ]
    },
    {
     "name": "stdout",
     "output_type": "stream",
     "text": [
      "{'eval_loss': 0.03210994973778725, 'eval_accuracy': 0.9914795509222133, 'eval_precision': 0.9908754620331887, 'eval_recall': 0.9914795509222133, 'eval_f1': 0.9905872826945578, 'eval_runtime': 11.4013, 'eval_samples_per_second': 3.245, 'eval_steps_per_second': 3.245, 'epoch': 3.0}\n",
      "{'train_runtime': 747.7459, 'train_samples_per_second': 0.578, 'train_steps_per_second': 0.578, 'train_loss': 0.01776465781235688, 'epoch': 3.0}\n"
     ]
    },
    {
     "name": "stderr",
     "output_type": "stream",
     "text": [
      "\n"
     ]
    },
    {
     "data": {
      "text/plain": [
       "TrainOutput(global_step=432, training_loss=0.01776465781235688, metrics={'train_runtime': 747.7459, 'train_samples_per_second': 0.578, 'train_steps_per_second': 0.578, 'total_flos': 729737038082304.0, 'train_loss': 0.01776465781235688, 'epoch': 3.0})"
      ]
     },
     "execution_count": 33,
     "metadata": {},
     "output_type": "execute_result"
    }
   ],
   "source": [
    "from transformers import LongformerForTokenClassification, Trainer, TrainingArguments\n",
    "from datasets import Dataset, DatasetDict\n",
    "from sklearn.metrics import accuracy_score, precision_recall_fscore_support\n",
    "import numpy as np\n",
    "import wandb\n",
    "\n",
    "# Initialize Weights & Biases for experiment tracking\n",
    "wandb.init(project=\"Training Plots\")\n",
    "\n",
    "# Split training dataset into training (80%) and validation (20%) sets\n",
    "train_valid_split = train_dataset.train_test_split(test_size=0.2)\n",
    "\n",
    "# Combine train, validation, and test into a single DatasetDict\n",
    "dataset = DatasetDict({\n",
    "    'train': train_valid_split['train'],\n",
    "    'validation': train_valid_split['test'],\n",
    "    'test': test_dataset\n",
    "})\n",
    "\n",
    "# Evaluation metrics for token classification (ignoring special tokens)\n",
    "def compute_metrics(p):\n",
    "    predictions, labels = p\n",
    "    predictions = np.argmax(predictions, axis=2)\n",
    "\n",
    "    # Remove ignored tokens (-100) from both predictions and labels\n",
    "    true_labels = [[label for label in label_group if label != -100] for label_group in labels]\n",
    "    true_predictions = [\n",
    "        [pred for (pred, label) in zip(pred_group, label_group) if label != -100]\n",
    "        for pred_group, label_group in zip(predictions, labels)\n",
    "    ]\n",
    "    \n",
    "    # Flatten for metric calculation\n",
    "    y_true = [item for sublist in true_labels for item in sublist]\n",
    "    y_pred = [item for sublist in true_predictions for item in sublist]\n",
    "\n",
    "    results = precision_recall_fscore_support(y_true, y_pred, average='weighted')\n",
    "    accuracy = accuracy_score(y_true, y_pred)\n",
    "    \n",
    "    return {\n",
    "        \"accuracy\": accuracy,\n",
    "        \"precision\": results[0],\n",
    "        \"recall\": results[1],\n",
    "        \"f1\": results[2],\n",
    "    }\n",
    "\n",
    "# Tokenize inputs and align token-level labels with word-level annotations\n",
    "def tokenize_and_align_labels(examples):\n",
    "    tokenized_inputs = tokenizer(\n",
    "        examples[\"tokens\"],\n",
    "        truncation=True,\n",
    "        padding=\"max_length\",\n",
    "        max_length=2648,\n",
    "        is_split_into_words=True,\n",
    "        add_special_tokens=True\n",
    "    )\n",
    "    \n",
    "    labels = []\n",
    "    for i, label in enumerate(examples[\"ner_tags\"]):\n",
    "        word_ids = tokenized_inputs.word_ids(batch_index=i)\n",
    "        previous_word_idx = None\n",
    "        label_ids = []\n",
    "\n",
    "        for word_idx in word_ids:\n",
    "            if word_idx is None:\n",
    "                label_ids.append(-100)  # Special tokens will be ignored\n",
    "            elif word_idx != previous_word_idx:\n",
    "                label_ids.append(label[word_idx])  # First sub-token of word gets the label\n",
    "            else:\n",
    "                label_ids.append(-100)  # Remaining sub-tokens are ignored\n",
    "            previous_word_idx = word_idx\n",
    "        labels.append(label_ids)\n",
    "\n",
    "    tokenized_inputs[\"labels\"] = labels\n",
    "    return tokenized_inputs\n",
    "\n",
    "# Tokenize and align labels for each split\n",
    "train_tokenized = dataset[\"train\"].map(tokenize_and_align_labels, batched=True)\n",
    "validation_tokenized = dataset[\"validation\"].map(tokenize_and_align_labels, batched=True)\n",
    "test_tokenized = dataset[\"test\"].map(tokenize_and_align_labels, batched=True)\n",
    "\n",
    "# Load Longformer model with 3 labels for token classification (e.g., O, B, I)\n",
    "model = LongformerForTokenClassification.from_pretrained(\n",
    "    \"allenai/longformer-base-4096\",\n",
    "    num_labels=3\n",
    ")\n",
    "\n",
    "# Define training arguments for the Hugging Face Trainer\n",
    "training_args = TrainingArguments(\n",
    "    output_dir=\"./results\",                 # Directory for model checkpoints\n",
    "    evaluation_strategy=\"epoch\",            # Evaluate at the end of each epoch\n",
    "    logging_dir='./logs',                   # Directory for log files\n",
    "    logging_steps=10,                       # Log every 10 steps\n",
    "    num_train_epochs=3,                     # Number of training epochs\n",
    "    per_device_train_batch_size=1,          # Batch size per device during training\n",
    "    per_device_eval_batch_size=1,           # Batch size for evaluation\n",
    "    save_steps=10_000,                      # Save model every 10,000 steps (not likely in small datasets)\n",
    "    save_total_limit=2,                     # Keep only the 2 most recent checkpoints\n",
    "    learning_rate=5e-5,                     # Learning rate for optimizer\n",
    "    report_to=\"wandb\"                       # Enable Weights & Biases logging\n",
    ")\n",
    "\n",
    "# Initialize the Hugging Face Trainer object\n",
    "trainer = Trainer(\n",
    "    model=model,\n",
    "    args=training_args,\n",
    "    train_dataset=train_tokenized,\n",
    "    eval_dataset=validation_tokenized,\n",
    "    tokenizer=tokenizer,\n",
    "    compute_metrics=compute_metrics,\n",
    ")\n",
    "\n",
    "# Start the training loop\n",
    "trainer.train()\n"
   ]
  },
  {
   "cell_type": "code",
   "execution_count": 39,
   "metadata": {},
   "outputs": [
    {
     "name": "stderr",
     "output_type": "stream",
     "text": [
      "100%|██████████| 45/45 [00:11<00:00,  3.74it/s]/Users/larsraufer/Library/Python/3.9/lib/python/site-packages/sklearn/metrics/_classification.py:1517: UndefinedMetricWarning: Precision is ill-defined and being set to 0.0 in labels with no predicted samples. Use `zero_division` parameter to control this behavior.\n",
      "  _warn_prf(average, modifier, f\"{metric.capitalize()} is\", len(result))\n",
      "100%|██████████| 45/45 [00:11<00:00,  3.81it/s]"
     ]
    },
    {
     "name": "stdout",
     "output_type": "stream",
     "text": [
      "Classification Report:\n",
      "                  precision    recall  f1-score   support\n",
      "\n",
      "               O       1.00      1.00      1.00     12453\n",
      "I-invoice_number       0.86      0.94      0.90       156\n",
      "B-invoice_number       0.00      0.00      0.00         2\n",
      "\n",
      "        accuracy                           1.00     12611\n",
      "       macro avg       0.62      0.65      0.63     12611\n",
      "    weighted avg       1.00      1.00      1.00     12611\n",
      "\n",
      "Evaluation Results:\n",
      "Accuracy: 0.9973832368567124\n",
      "Precision: 0.9973908379996194\n",
      "Recall: 0.9973832368567124\n",
      "F1 Score: 0.9973633166353868\n"
     ]
    },
    {
     "name": "stderr",
     "output_type": "stream",
     "text": [
      "\n",
      "/Users/larsraufer/Library/Python/3.9/lib/python/site-packages/sklearn/metrics/_classification.py:1517: UndefinedMetricWarning: Precision is ill-defined and being set to 0.0 in labels with no predicted samples. Use `zero_division` parameter to control this behavior.\n",
      "  _warn_prf(average, modifier, f\"{metric.capitalize()} is\", len(result))\n",
      "/Users/larsraufer/Library/Python/3.9/lib/python/site-packages/sklearn/metrics/_classification.py:1517: UndefinedMetricWarning: Precision is ill-defined and being set to 0.0 in labels with no predicted samples. Use `zero_division` parameter to control this behavior.\n",
      "  _warn_prf(average, modifier, f\"{metric.capitalize()} is\", len(result))\n",
      "/Users/larsraufer/Library/Python/3.9/lib/python/site-packages/sklearn/metrics/_classification.py:1517: UndefinedMetricWarning: Precision is ill-defined and being set to 0.0 in labels with no predicted samples. Use `zero_division` parameter to control this behavior.\n",
      "  _warn_prf(average, modifier, f\"{metric.capitalize()} is\", len(result))\n",
      "/Users/larsraufer/Library/Python/3.9/lib/python/site-packages/sklearn/metrics/_classification.py:1517: UndefinedMetricWarning: Precision is ill-defined and being set to 0.0 in labels with no predicted samples. Use `zero_division` parameter to control this behavior.\n",
      "  _warn_prf(average, modifier, f\"{metric.capitalize()} is\", len(result))\n",
      "/Users/larsraufer/Library/Python/3.9/lib/python/site-packages/sklearn/metrics/_classification.py:1517: UndefinedMetricWarning: Precision is ill-defined and being set to 0.0 in labels with no predicted samples. Use `zero_division` parameter to control this behavior.\n",
      "  _warn_prf(average, modifier, f\"{metric.capitalize()} is\", len(result))\n",
      "/Users/larsraufer/Library/Python/3.9/lib/python/site-packages/sklearn/metrics/_classification.py:1517: UndefinedMetricWarning: Precision is ill-defined and being set to 0.0 in labels with no predicted samples. Use `zero_division` parameter to control this behavior.\n",
      "  _warn_prf(average, modifier, f\"{metric.capitalize()} is\", len(result))\n"
     ]
    },
    {
     "data": {
      "image/png": "[encoded data removed]",
      "text/plain": [
       "<Figure size 800x600 with 2 Axes>"
      ]
     },
     "metadata": {},
     "output_type": "display_data"
    },
    {
     "name": "stdout",
     "output_type": "stream",
     "text": [
      "Document 0, Token 171: Predicted 0, Actual 1, Context: 67309\n",
      "Document 1, Token 106: Predicted 0, Actual 1, Context: R/24003737\n",
      "Document 2, Token 66: Predicted 0, Actual 1, Context: 24000298\n",
      "Document 13, Token 434: Predicted 1, Actual 0, Context: 9300352905\n",
      "Document 13, Token 439: Predicted 1, Actual 0, Context: 9300352906\n",
      "Document 14, Token 205: Predicted 1, Actual 0, Context: 3227242-B01\n",
      "Document 14, Token 218: Predicted 1, Actual 0, Context: 3219959\n",
      "Document 14, Token 231: Predicted 1, Actual 0, Context: 3231613\n",
      "Document 21, Token 90: Predicted 0, Actual 1, Context: AR\n",
      "Document 21, Token 91: Predicted 1, Actual 2, Context: 240157000\n",
      "Document 21, Token 93: Predicted 0, Actual 1, Context: GS\n",
      "Document 21, Token 94: Predicted 1, Actual 2, Context: 240615139\n",
      "Document 24, Token 163: Predicted 1, Actual 0, Context: 6000385159\n",
      "Document 27, Token 120: Predicted 1, Actual 0, Context: 646119\n",
      "Document 30, Token 175: Predicted 1, Actual 0, Context: 0091173392\n",
      "Document 32, Token 4: Predicted 0, Actual 1, Context: SWSCC32C\n",
      "Document 33, Token 594: Predicted 1, Actual 0, Context: 3009625026\n",
      "Document 35, Token 81: Predicted 1, Actual 0, Context: 1978459\n",
      "Document 35, Token 89: Predicted 1, Actual 0, Context: 1978869\n",
      "Document 35, Token 97: Predicted 1, Actual 0, Context: 1979268\n",
      "Document 35, Token 105: Predicted 1, Actual 0, Context: 1980553\n",
      "Document 37, Token 120: Predicted 1, Actual 0, Context: 1101\n",
      "Document 37, Token 147: Predicted 0, Actual 1, Context: DK02587623\n",
      "Document 37, Token 148: Predicted 0, Actual 1, Context: DK02588241\n",
      "Document 37, Token 149: Predicted 0, Actual 1, Context: DK02588242\n",
      "Document 42, Token 87: Predicted 1, Actual 0, Context: LE\n",
      "Document 43, Token 171: Predicted 1, Actual 0, Context: 62836550\n",
      "Document 43, Token 177: Predicted 1, Actual 0, Context: 62839394\n",
      "Document 43, Token 183: Predicted 1, Actual 0, Context: 62843950\n",
      "Document 43, Token 241: Predicted 1, Actual 0, Context: 62851713\n",
      "Document 43, Token 247: Predicted 1, Actual 0, Context: 62856077\n",
      "Document 43, Token 253: Predicted 1, Actual 0, Context: 62859238\n",
      "Document 43, Token 259: Predicted 1, Actual 0, Context: 62863841\n"
     ]
    }
   ],
   "source": [
    "from sklearn.metrics import (\n",
    "    accuracy_score,\n",
    "    precision_recall_fscore_support,\n",
    "    classification_report,\n",
    "    confusion_matrix\n",
    ")\n",
    "import seaborn as sns\n",
    "import matplotlib.pyplot as plt\n",
    "import numpy as np\n",
    "\n",
    "# Run evaluation on the test set using the trained model\n",
    "results = trainer.predict(test_tokenized)\n",
    "\n",
    "# Extract raw model predictions and true labels\n",
    "predictions = results.predictions\n",
    "labels = results.label_ids\n",
    "\n",
    "# Convert logits to predicted class indices\n",
    "predictions = np.argmax(predictions, axis=2)\n",
    "\n",
    "# Remove special tokens (-100) from labels and predictions\n",
    "true_labels = [\n",
    "    [label for label in label_group if label != -100]\n",
    "    for label_group in labels\n",
    "]\n",
    "true_predictions = [\n",
    "    [pred for (pred, label) in zip(pred_group, label_group) if label != -100]\n",
    "    for pred_group, label_group in zip(predictions, labels)\n",
    "]\n",
    "\n",
    "# Flatten the lists for metric calculations\n",
    "true_labels_flat = [item for sublist in true_labels for item in sublist]\n",
    "true_predictions_flat = [item for sublist in true_predictions for item in sublist]\n",
    "\n",
    "# Function to compute classification metrics and confusion matrix\n",
    "def compute_metrics_per_class(true_labels_flat, true_predictions_flat):\n",
    "    report = classification_report(\n",
    "        true_labels_flat,\n",
    "        true_predictions_flat,\n",
    "        target_names=[\"O\", \"I-invoice_number\", \"B-invoice_number\"]\n",
    "    )\n",
    "    print(\"Classification Report:\")\n",
    "    print(report)\n",
    "    \n",
    "    conf_matrix = confusion_matrix(true_labels_flat, true_predictions_flat)\n",
    "    return conf_matrix, report\n",
    "\n",
    "# Compute metrics and confusion matrix\n",
    "conf_matrix, report = compute_metrics_per_class(true_labels_flat, true_predictions_flat)\n",
    "\n",
    "# Print basic metrics\n",
    "print(\"Evaluation Results:\")\n",
    "print(f\"Accuracy: {accuracy_score(true_labels_flat, true_predictions_flat)}\")\n",
    "print(f\"Precision: {precision_recall_fscore_support(true_labels_flat, true_predictions_flat, average='weighted')[0]}\")\n",
    "print(f\"Recall: {precision_recall_fscore_support(true_labels_flat, true_predictions_flat, average='weighted')[1]}\")\n",
    "print(f\"F1 Score: {precision_recall_fscore_support(true_labels_flat, true_predictions_flat, average='weighted')[2]}\")\n",
    "\n",
    "# Plot the confusion matrix as a heatmap\n",
    "plt.figure(figsize=(8, 6))\n",
    "sns.heatmap(\n",
    "    conf_matrix,\n",
    "    annot=True,\n",
    "    fmt='d',\n",
    "    cmap='Blues',\n",
    "    xticklabels=[\"O\", \"I-invoice_number\", \"B-invoice_number\"],\n",
    "    yticklabels=[\"O\", \"I-invoice_number\", \"B-invoice_number\"]\n",
    ")\n",
    "plt.xlabel('Predicted')\n",
    "plt.ylabel('True')\n",
    "plt.title('Confusion Matrix')\n",
    "plt.show()\n",
    "\n",
    "\n",
    "# Identify misclassified tokens and their surrounding context\n",
    "misclassifications = []\n",
    "for i, (pred, true) in enumerate(zip(true_predictions, true_labels)):\n",
    "    for j, (p, t) in enumerate(zip(pred, true)):\n",
    "        if p != t:\n",
    "            # Extract surrounding tokens (±5) for context\n",
    "            context_tokens = dataset[\"test\"][i]['tokens'][max(0, j-5):min(len(dataset[\"test\"][i]['tokens']), j+6)]\n",
    "            context = \" \".join(context_tokens)\n",
    "            misclassifications.append((i, j, p, t, context))\n",
    "\n",
    "# Print misclassified tokens with context\n",
    "for doc_idx, token_idx, pred, true, context in misclassifications:\n",
    "    print(\n",
    "        f\"Document {doc_idx}, Token {token_idx}: \"\n",
    "        f\"Predicted {pred}, Actual {true}, \"\n",
    "        f\"Context: {test_tokenized['tokens'][doc_idx][token_idx]}\"\n",
    "    )\n"
   ]
  }
 ],
 "metadata": {
  "kernelspec": {
   "display_name": "Python 3",
   "language": "python",
   "name": "python3"
  },
  "language_info": {
   "codemirror_mode": {
    "name": "ipython",
    "version": 3
   },
   "file_extension": ".py",
   "mimetype": "text/x-python",
   "name": "python",
   "nbconvert_exporter": "python",
   "pygments_lexer": "ipython3",
   "version": "3.9.6"
  }
 },
 "nbformat": 4,
 "nbformat_minor": 2
}
